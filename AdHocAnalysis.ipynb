{
 "cells": [
  {
   "cell_type": "code",
   "execution_count": 1,
   "id": "6791a27f-52e3-48c9-a724-9531ae7e8df0",
   "metadata": {},
   "outputs": [
    {
     "data": {
      "text/html": [
       "<div>\n",
       "<style scoped>\n",
       "    .dataframe tbody tr th:only-of-type {\n",
       "        vertical-align: middle;\n",
       "    }\n",
       "\n",
       "    .dataframe tbody tr th {\n",
       "        vertical-align: top;\n",
       "    }\n",
       "\n",
       "    .dataframe thead th {\n",
       "        text-align: right;\n",
       "    }\n",
       "</style>\n",
       "<table border=\"1\" class=\"dataframe\">\n",
       "  <thead>\n",
       "    <tr style=\"text-align: right;\">\n",
       "      <th></th>\n",
       "      <th>January</th>\n",
       "      <th>February</th>\n",
       "      <th>March</th>\n",
       "      <th>April</th>\n",
       "      <th>May</th>\n",
       "      <th>June</th>\n",
       "    </tr>\n",
       "    <tr>\n",
       "      <th>Product</th>\n",
       "      <th></th>\n",
       "      <th></th>\n",
       "      <th></th>\n",
       "      <th></th>\n",
       "      <th></th>\n",
       "      <th></th>\n",
       "    </tr>\n",
       "  </thead>\n",
       "  <tbody>\n",
       "    <tr>\n",
       "      <th>Beef Chicharon</th>\n",
       "      <td>9665</td>\n",
       "      <td>10001</td>\n",
       "      <td>9816</td>\n",
       "      <td>9890</td>\n",
       "      <td>10028</td>\n",
       "      <td>9902</td>\n",
       "    </tr>\n",
       "    <tr>\n",
       "      <th>Gummy Vitamins</th>\n",
       "      <td>9681</td>\n",
       "      <td>9980</td>\n",
       "      <td>10145</td>\n",
       "      <td>9842</td>\n",
       "      <td>9948</td>\n",
       "      <td>9980</td>\n",
       "    </tr>\n",
       "    <tr>\n",
       "      <th>Gummy Worms</th>\n",
       "      <td>9559</td>\n",
       "      <td>9996</td>\n",
       "      <td>9986</td>\n",
       "      <td>10043</td>\n",
       "      <td>9801</td>\n",
       "      <td>9934</td>\n",
       "    </tr>\n",
       "    <tr>\n",
       "      <th>Kimchi and Seaweed</th>\n",
       "      <td>9676</td>\n",
       "      <td>9949</td>\n",
       "      <td>9967</td>\n",
       "      <td>9921</td>\n",
       "      <td>9773</td>\n",
       "      <td>10104</td>\n",
       "    </tr>\n",
       "    <tr>\n",
       "      <th>Nutrional Milk</th>\n",
       "      <td>9727</td>\n",
       "      <td>9691</td>\n",
       "      <td>9876</td>\n",
       "      <td>9786</td>\n",
       "      <td>9881</td>\n",
       "      <td>9767</td>\n",
       "    </tr>\n",
       "    <tr>\n",
       "      <th>Orange Beans</th>\n",
       "      <td>9774</td>\n",
       "      <td>10037</td>\n",
       "      <td>9611</td>\n",
       "      <td>9914</td>\n",
       "      <td>9964</td>\n",
       "      <td>10106</td>\n",
       "    </tr>\n",
       "    <tr>\n",
       "      <th>Yummy Vegetables</th>\n",
       "      <td>9959</td>\n",
       "      <td>10256</td>\n",
       "      <td>9896</td>\n",
       "      <td>9861</td>\n",
       "      <td>9735</td>\n",
       "      <td>9722</td>\n",
       "    </tr>\n",
       "  </tbody>\n",
       "</table>\n",
       "</div>"
      ],
      "text/plain": [
       "                    January  February  March  April    May   June\n",
       "Product                                                          \n",
       "Beef Chicharon         9665     10001   9816   9890  10028   9902\n",
       "Gummy Vitamins         9681      9980  10145   9842   9948   9980\n",
       "Gummy Worms            9559      9996   9986  10043   9801   9934\n",
       "Kimchi and Seaweed     9676      9949   9967   9921   9773  10104\n",
       "Nutrional Milk         9727      9691   9876   9786   9881   9767\n",
       "Orange Beans           9774     10037   9611   9914   9964  10106\n",
       "Yummy Vegetables       9959     10256   9896   9861   9735   9722"
      ]
     },
     "metadata": {},
     "output_type": "display_data"
    }
   ],
   "source": [
    "import pandas as pd\n",
    "import matplotlib.pyplot as plt\n",
    "import json\n",
    "from datetime import date\n",
    "\n",
    "file = open(\"transaction-data-adhoc-analysis.json\")\n",
    "data = json.load(file)\n",
    "df = pd.DataFrame(data)\n",
    "df[\"transaction_date\"] = pd.to_datetime(df[\"transaction_date\"], format = \"%Y/%m/%d\")\n",
    "df[\"transaction_items\"] = df[\"transaction_items\"].str.split(\";\")\n",
    "df = df.explode(\"transaction_items\").reset_index(drop=True)\n",
    "\n",
    "df[\"transaction_items\"] = df[\"transaction_items\"].str.split(\",\")\n",
    "\n",
    "def product(name): \n",
    "    productname = name[1]\n",
    "    return productname\n",
    "df[\"Product\"] = df[\"transaction_items\"].apply(product)\n",
    "\n",
    "def quantity(name): \n",
    "    quantity = name[2]\n",
    "    return quantity\n",
    "df[\"Quantity\"] = df[\"transaction_items\"].apply(quantity)\n",
    "df['Quantity'] = df['Quantity'].str.extract('(\\d+)', expand=False)\n",
    "df['Quantity'] = df['Quantity'].astype(int)\n",
    "\n",
    "df[\"transaction_items\"] = df[\"transaction_items\"].str.join(\",\")\n",
    "itemqty = df.groupby([df.transaction_date.dt.month,'Product'])['Quantity'].sum().unstack(level=0)\n",
    "itemqty.columns = ['January', 'February', 'March', 'April', 'May', 'June']\n",
    "\n",
    "display(itemqty)"
   ]
  },
  {
   "cell_type": "code",
   "execution_count": 22,
   "id": "1d4fa615-4278-4493-b40a-f2902afb40fe",
   "metadata": {},
   "outputs": [
    {
     "data": {
      "text/plain": [
       "<AxesSubplot:xlabel='Product'>"
      ]
     },
     "execution_count": 22,
     "metadata": {},
     "output_type": "execute_result"
    },
    {
     "data": {
      "image/png": "[encoded data removed]",
      "text/plain": [
       "<Figure size 1080x360 with 1 Axes>"
      ]
     },
     "metadata": {
      "needs_background": "light"
     },
     "output_type": "display_data"
    }
   ],
   "source": [
    "itemqty.plot.bar(rot=0,figsize=(15,5))"
   ]
  },
  {
   "cell_type": "code",
   "execution_count": 51,
   "id": "239af909-addf-4b62-a4c7-c26448441eb2",
   "metadata": {},
   "outputs": [
    {
     "data": {
      "text/html": [
       "<div>\n",
       "<style scoped>\n",
       "    .dataframe tbody tr th:only-of-type {\n",
       "        vertical-align: middle;\n",
       "    }\n",
       "\n",
       "    .dataframe tbody tr th {\n",
       "        vertical-align: top;\n",
       "    }\n",
       "\n",
       "    .dataframe thead th {\n",
       "        text-align: right;\n",
       "    }\n",
       "</style>\n",
       "<table border=\"1\" class=\"dataframe\">\n",
       "  <thead>\n",
       "    <tr style=\"text-align: right;\">\n",
       "      <th></th>\n",
       "      <th>January</th>\n",
       "      <th>February</th>\n",
       "      <th>March</th>\n",
       "      <th>April</th>\n",
       "      <th>May</th>\n",
       "      <th>June</th>\n",
       "    </tr>\n",
       "    <tr>\n",
       "      <th>Product</th>\n",
       "      <th></th>\n",
       "      <th></th>\n",
       "      <th></th>\n",
       "      <th></th>\n",
       "      <th></th>\n",
       "      <th></th>\n",
       "    </tr>\n",
       "  </thead>\n",
       "  <tbody>\n",
       "    <tr>\n",
       "      <th>Beef Chicharon</th>\n",
       "      <td>12554835</td>\n",
       "      <td>12991299</td>\n",
       "      <td>12750984</td>\n",
       "      <td>12847110</td>\n",
       "      <td>13026372</td>\n",
       "      <td>12862698</td>\n",
       "    </tr>\n",
       "    <tr>\n",
       "      <th>Gummy Vitamins</th>\n",
       "      <td>14521500</td>\n",
       "      <td>14970000</td>\n",
       "      <td>15217500</td>\n",
       "      <td>14763000</td>\n",
       "      <td>14922000</td>\n",
       "      <td>14970000</td>\n",
       "    </tr>\n",
       "    <tr>\n",
       "      <th>Gummy Worms</th>\n",
       "      <td>1433850</td>\n",
       "      <td>1499400</td>\n",
       "      <td>1497900</td>\n",
       "      <td>1506450</td>\n",
       "      <td>1470150</td>\n",
       "      <td>1490100</td>\n",
       "    </tr>\n",
       "    <tr>\n",
       "      <th>Kimchi and Seaweed</th>\n",
       "      <td>7731124</td>\n",
       "      <td>7949251</td>\n",
       "      <td>7963633</td>\n",
       "      <td>7926879</td>\n",
       "      <td>7808627</td>\n",
       "      <td>8073096</td>\n",
       "    </tr>\n",
       "    <tr>\n",
       "      <th>Nutrional Milk</th>\n",
       "      <td>19356730</td>\n",
       "      <td>19285090</td>\n",
       "      <td>19653240</td>\n",
       "      <td>19474140</td>\n",
       "      <td>19663190</td>\n",
       "      <td>19436330</td>\n",
       "    </tr>\n",
       "    <tr>\n",
       "      <th>Orange Beans</th>\n",
       "      <td>1945026</td>\n",
       "      <td>1997363</td>\n",
       "      <td>1912589</td>\n",
       "      <td>1972886</td>\n",
       "      <td>1982836</td>\n",
       "      <td>2011094</td>\n",
       "    </tr>\n",
       "    <tr>\n",
       "      <th>Yummy Vegetables</th>\n",
       "      <td>4979500</td>\n",
       "      <td>5128000</td>\n",
       "      <td>4948000</td>\n",
       "      <td>4930500</td>\n",
       "      <td>4867500</td>\n",
       "      <td>4861000</td>\n",
       "    </tr>\n",
       "  </tbody>\n",
       "</table>\n",
       "</div>"
      ],
      "text/plain": [
       "                     January  February     March     April       May      June\n",
       "Product                                                                       \n",
       "Beef Chicharon      12554835  12991299  12750984  12847110  13026372  12862698\n",
       "Gummy Vitamins      14521500  14970000  15217500  14763000  14922000  14970000\n",
       "Gummy Worms          1433850   1499400   1497900   1506450   1470150   1490100\n",
       "Kimchi and Seaweed   7731124   7949251   7963633   7926879   7808627   8073096\n",
       "Nutrional Milk      19356730  19285090  19653240  19474140  19663190  19436330\n",
       "Orange Beans         1945026   1997363   1912589   1972886   1982836   2011094\n",
       "Yummy Vegetables     4979500   5128000   4948000   4930500   4867500   4861000"
      ]
     },
     "execution_count": 51,
     "metadata": {},
     "output_type": "execute_result"
    }
   ],
   "source": [
    "newdf = pd.DataFrame(data)\n",
    "pricelist = newdf[[\"transaction_items\",\"transaction_value\"]].loc[(newdf['transaction_items'].str.contains(\";\") == False) & (newdf['transaction_items'].str.contains(\"x1\"))].drop_duplicates(subset = [\"transaction_items\"]).reset_index(drop = True)\n",
    "pricelist[\"transaction_items\"] = pricelist[\"transaction_items\"].str.split(\",\")\n",
    "pricelist[\"transaction_items\"] = pricelist[\"transaction_items\"].apply(product)\n",
    "pricelist.columns = ['Product', 'Price']\n",
    "pricelist = pricelist.set_index('Product')\n",
    "concat = pd.concat([itemqty, pricelist], axis=1)\n",
    "\n",
    "concat['January'] = concat['January']*concat['Price']\n",
    "concat['February'] = concat['February']*concat['Price']\n",
    "concat['March'] = concat['March']*concat['Price']\n",
    "concat['April'] = concat['April']*concat['Price']\n",
    "concat['May'] = concat['May']*concat['Price']\n",
    "concat['June'] = concat['June']*concat['Price']\n",
    "concat.drop('Price', inplace=True, axis=1)\n",
    "\n",
    "concat"
   ]
  },
  {
   "cell_type": "code",
   "execution_count": 52,
   "id": "4f90b7f7-14f2-47f4-addf-80db01cbe9e4",
   "metadata": {},
   "outputs": [
    {
     "data": {
      "text/plain": [
       "<AxesSubplot:xlabel='Product'>"
      ]
     },
     "execution_count": 52,
     "metadata": {},
     "output_type": "execute_result"
    },
    {
     "data": {
      "image/png": "[encoded data removed]",
      "text/plain": [
       "<Figure size 1080x360 with 1 Axes>"
      ]
     },
     "metadata": {
      "needs_background": "light"
     },
     "output_type": "display_data"
    }
   ],
   "source": [
    "concat.plot.bar(rot=0,figsize=(15,5))"
   ]
  },
  {
   "cell_type": "code",
   "execution_count": 89,
   "id": "59ec017a-068b-4b69-9392-3d3cbe410e34",
   "metadata": {},
   "outputs": [
    {
     "data": {
      "text/html": [
       "<div>\n",
       "<style scoped>\n",
       "    .dataframe tbody tr th:only-of-type {\n",
       "        vertical-align: middle;\n",
       "    }\n",
       "\n",
       "    .dataframe tbody tr th {\n",
       "        vertical-align: top;\n",
       "    }\n",
       "\n",
       "    .dataframe thead th {\n",
       "        text-align: right;\n",
       "    }\n",
       "</style>\n",
       "<table border=\"1\" class=\"dataframe\">\n",
       "  <thead>\n",
       "    <tr style=\"text-align: right;\">\n",
       "      <th></th>\n",
       "      <th>January</th>\n",
       "      <th>February</th>\n",
       "      <th>March</th>\n",
       "      <th>April</th>\n",
       "      <th>May</th>\n",
       "      <th>June</th>\n",
       "    </tr>\n",
       "  </thead>\n",
       "  <tbody>\n",
       "    <tr>\n",
       "      <th>Repeaters</th>\n",
       "      <td>0</td>\n",
       "      <td>5172</td>\n",
       "      <td>5216</td>\n",
       "      <td>5154</td>\n",
       "      <td>5110</td>\n",
       "      <td>5193</td>\n",
       "    </tr>\n",
       "  </tbody>\n",
       "</table>\n",
       "</div>"
      ],
      "text/plain": [
       "           January  February  March  April   May  June\n",
       "Repeaters        0      5172   5216   5154  5110  5193"
      ]
     },
     "execution_count": 89,
     "metadata": {},
     "output_type": "execute_result"
    }
   ],
   "source": [
    "frequency = pd.crosstab(df.name,df.transaction_date.dt.month)\n",
    "frequency.columns = ['January', 'February', 'March', 'April', 'May', 'June']\n",
    "\n",
    "repeaters = [0]\n",
    "repeaters.append(len(frequency.loc[(frequency['January'] != 0) & (frequency['February'] != 0)]))\n",
    "repeaters.append(len(frequency.loc[(frequency['February'] != 0) & (frequency['March'] != 0)]))\n",
    "repeaters.append(len(frequency.loc[(frequency['March'] != 0) & (frequency['April'] != 0)]))\n",
    "repeaters.append(len(frequency.loc[(frequency['April'] != 0) & (frequency['May'] != 0)]))\n",
    "repeaters.append(len(frequency.loc[(frequency['May'] != 0) & (frequency['June'] != 0)]))\n",
    "\n",
    "repeatersdata = pd.DataFrame(repeaters,index = ['January', 'February', 'March', 'April', 'May', 'June'], columns=['Repeaters']).transpose()\n",
    "\n",
    "repeatersdata"
   ]
  },
  {
   "cell_type": "code",
   "execution_count": 94,
   "id": "88f459c3-9b9f-4e03-9f5c-793f834cc819",
   "metadata": {},
   "outputs": [
    {
     "data": {
      "text/html": [
       "<div>\n",
       "<style scoped>\n",
       "    .dataframe tbody tr th:only-of-type {\n",
       "        vertical-align: middle;\n",
       "    }\n",
       "\n",
       "    .dataframe tbody tr th {\n",
       "        vertical-align: top;\n",
       "    }\n",
       "\n",
       "    .dataframe thead th {\n",
       "        text-align: right;\n",
       "    }\n",
       "</style>\n",
       "<table border=\"1\" class=\"dataframe\">\n",
       "  <thead>\n",
       "    <tr style=\"text-align: right;\">\n",
       "      <th></th>\n",
       "      <th>January</th>\n",
       "      <th>February</th>\n",
       "      <th>March</th>\n",
       "      <th>April</th>\n",
       "      <th>May</th>\n",
       "      <th>June</th>\n",
       "    </tr>\n",
       "  </thead>\n",
       "  <tbody>\n",
       "    <tr>\n",
       "      <th>Inactive</th>\n",
       "      <td>0</td>\n",
       "      <td>1416</td>\n",
       "      <td>1747</td>\n",
       "      <td>1909</td>\n",
       "      <td>1917</td>\n",
       "      <td>1835</td>\n",
       "    </tr>\n",
       "  </tbody>\n",
       "</table>\n",
       "</div>"
      ],
      "text/plain": [
       "          January  February  March  April   May  June\n",
       "Inactive        0      1416   1747   1909  1917  1835"
      ]
     },
     "execution_count": 94,
     "metadata": {},
     "output_type": "execute_result"
    }
   ],
   "source": [
    "inactive = [0]\n",
    "inactive.append(len(frequency.loc[(frequency['January'] != 0) & (frequency['February'] == 0)]))\n",
    "inactive.append(len(frequency.loc[((frequency['January'] != 0) | (frequency['February'] != 0)) & (frequency['March'] == 0)]))\n",
    "inactive.append(len(frequency.loc[((frequency['January'] != 0) | (frequency['February'] != 0) | (frequency['March'] != 0)) & (frequency['April'] == 0)]))\n",
    "inactive.append(len(frequency.loc[((frequency['January'] != 0) | (frequency['February'] != 0) | (frequency['March'] != 0) | (frequency['April'] != 0)) & (frequency['May'] == 0)]))\n",
    "inactive.append(len(frequency.loc[((frequency['January'] != 0) | (frequency['February'] != 0) | (frequency['March'] != 0) | (frequency['April'] != 0) | (frequency['May'] != 0)) & (frequency['June'] == 0)]))\n",
    "\n",
    "inactivedata = pd.DataFrame(inactive,index = ['January', 'February', 'March', 'April', 'May', 'June'], columns=['Inactive']).transpose()\n",
    "\n",
    "inactivedata"
   ]
  },
  {
   "cell_type": "code",
   "execution_count": null,
   "id": "43cf89cc-513e-42e3-ad2b-414bad573079",
   "metadata": {},
   "outputs": [],
   "source": []
  },
  {
   "cell_type": "code",
   "execution_count": 90,
   "id": "dd0519c4-f1b8-40e2-9dee-8489069dcfde",
   "metadata": {},
   "outputs": [
    {
     "data": {
      "text/html": [
       "<div>\n",
       "<style scoped>\n",
       "    .dataframe tbody tr th:only-of-type {\n",
       "        vertical-align: middle;\n",
       "    }\n",
       "\n",
       "    .dataframe tbody tr th {\n",
       "        vertical-align: top;\n",
       "    }\n",
       "\n",
       "    .dataframe thead th {\n",
       "        text-align: right;\n",
       "    }\n",
       "</style>\n",
       "<table border=\"1\" class=\"dataframe\">\n",
       "  <thead>\n",
       "    <tr style=\"text-align: right;\">\n",
       "      <th></th>\n",
       "      <th>January</th>\n",
       "      <th>February</th>\n",
       "      <th>March</th>\n",
       "      <th>April</th>\n",
       "      <th>May</th>\n",
       "      <th>June</th>\n",
       "    </tr>\n",
       "  </thead>\n",
       "  <tbody>\n",
       "    <tr>\n",
       "      <th>Engaged</th>\n",
       "      <td>6588</td>\n",
       "      <td>5172</td>\n",
       "      <td>4126</td>\n",
       "      <td>3289</td>\n",
       "      <td>2667</td>\n",
       "      <td>2190</td>\n",
       "    </tr>\n",
       "  </tbody>\n",
       "</table>\n",
       "</div>"
      ],
      "text/plain": [
       "         January  February  March  April   May  June\n",
       "Engaged     6588      5172   4126   3289  2667  2190"
      ]
     },
     "execution_count": 90,
     "metadata": {},
     "output_type": "execute_result"
    }
   ],
   "source": [
    "engaged = []\n",
    "engaged.append(len(frequency.loc[(frequency['January'] != 0)]))\n",
    "engaged.append(len(frequency.loc[(frequency['January'] != 0) & (frequency['February'] != 0)]))\n",
    "engaged.append(len(frequency.loc[(frequency['January'] != 0) & (frequency['February'] != 0) & (frequency['March'] != 0)]))\n",
    "engaged.append(len(frequency.loc[(frequency['January'] != 0) & (frequency['February'] != 0) & (frequency['March'] != 0) & (frequency['April'] != 0)]))\n",
    "engaged.append(len(frequency.loc[(frequency['January'] != 0) & (frequency['February'] != 0) & (frequency['March'] != 0) & (frequency['April'] != 0) & (frequency['May'] != 0)]))\n",
    "engaged.append(len(frequency.loc[(frequency['January'] != 0) & (frequency['February'] != 0) & (frequency['March'] != 0) & (frequency['April'] != 0) & (frequency['May'] != 0) & (frequency['June'] != 0)]))\n",
    "\n",
    "engageddata = pd.DataFrame(engaged,index = ['January', 'February', 'March', 'April', 'May', 'June'], columns=['Engaged']).transpose()\n",
    "\n",
    "engageddata"
   ]
  },
  {
   "cell_type": "code",
   "execution_count": 95,
   "id": "ca47a045-2ec5-4b3a-bf0d-1a3c1035b07d",
   "metadata": {},
   "outputs": [
    {
     "data": {
      "text/html": [
       "<div>\n",
       "<style scoped>\n",
       "    .dataframe tbody tr th:only-of-type {\n",
       "        vertical-align: middle;\n",
       "    }\n",
       "\n",
       "    .dataframe tbody tr th {\n",
       "        vertical-align: top;\n",
       "    }\n",
       "\n",
       "    .dataframe thead th {\n",
       "        text-align: right;\n",
       "    }\n",
       "</style>\n",
       "<table border=\"1\" class=\"dataframe\">\n",
       "  <thead>\n",
       "    <tr style=\"text-align: right;\">\n",
       "      <th></th>\n",
       "      <th>January</th>\n",
       "      <th>February</th>\n",
       "      <th>March</th>\n",
       "      <th>April</th>\n",
       "      <th>May</th>\n",
       "      <th>June</th>\n",
       "    </tr>\n",
       "  </thead>\n",
       "  <tbody>\n",
       "    <tr>\n",
       "      <th>Repeaters</th>\n",
       "      <td>0</td>\n",
       "      <td>5172</td>\n",
       "      <td>5216</td>\n",
       "      <td>5154</td>\n",
       "      <td>5110</td>\n",
       "      <td>5193</td>\n",
       "    </tr>\n",
       "    <tr>\n",
       "      <th>Inactive</th>\n",
       "      <td>0</td>\n",
       "      <td>1416</td>\n",
       "      <td>1747</td>\n",
       "      <td>1909</td>\n",
       "      <td>1917</td>\n",
       "      <td>1835</td>\n",
       "    </tr>\n",
       "    <tr>\n",
       "      <th>Engaged</th>\n",
       "      <td>6588</td>\n",
       "      <td>5172</td>\n",
       "      <td>4126</td>\n",
       "      <td>3289</td>\n",
       "      <td>2667</td>\n",
       "      <td>2190</td>\n",
       "    </tr>\n",
       "  </tbody>\n",
       "</table>\n",
       "</div>"
      ],
      "text/plain": [
       "           January  February  March  April   May  June\n",
       "Repeaters        0      5172   5216   5154  5110  5193\n",
       "Inactive         0      1416   1747   1909  1917  1835\n",
       "Engaged       6588      5172   4126   3289  2667  2190"
      ]
     },
     "execution_count": 95,
     "metadata": {},
     "output_type": "execute_result"
    }
   ],
   "source": [
    "everything = pd.concat([repeatersdata, inactivedata, engageddata], axis=0)\n",
    "\n",
    "everything"
   ]
  },
  {
   "cell_type": "code",
   "execution_count": 96,
   "id": "ad4ef2d5-3f47-4f44-b65d-69cac3b122d5",
   "metadata": {},
   "outputs": [
    {
     "data": {
      "text/plain": [
       "<AxesSubplot:>"
      ]
     },
     "execution_count": 96,
     "metadata": {},
     "output_type": "execute_result"
    },
    {
     "data": {
      "image/png": "[encoded data removed]",
      "text/plain": [
       "<Figure size 1080x360 with 1 Axes>"
      ]
     },
     "metadata": {
      "needs_background": "light"
     },
     "output_type": "display_data"
    }
   ],
   "source": [
    "everything.plot.bar(rot=0,figsize=(15,5))"
   ]
  },
  {
   "cell_type": "code",
   "execution_count": null,
   "id": "f4959a25-65da-4d13-af3f-74e8eb69a327",
   "metadata": {},
   "outputs": [],
   "source": []
  }
 ],
 "metadata": {
  "kernelspec": {
   "display_name": "Python 3 (ipykernel)",
   "language": "python",
   "name": "python3"
  },
  "language_info": {
   "codemirror_mode": {
    "name": "ipython",
    "version": 3
   },
   "file_extension": ".py",
   "mimetype": "text/x-python",
   "name": "python",
   "nbconvert_exporter": "python",
   "pygments_lexer": "ipython3",
   "version": "3.9.12"
  }
 },
 "nbformat": 4,
 "nbformat_minor": 5
}
