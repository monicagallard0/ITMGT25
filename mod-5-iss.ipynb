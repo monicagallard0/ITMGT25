{
 "cells": [
  {
   "cell_type": "code",
   "execution_count": 4,
   "id": "a1888b90-ddc3-4414-88ce-ca3753ff07ed",
   "metadata": {},
   "outputs": [],
   "source": [
    "import requests as req\n",
    "import matplotlib as plt\n",
    "import pandas as pd\n",
    "import json\n",
    "import time\n",
    "\n",
    "data = []\n",
    "\n",
    "for i in range(0,100):\n",
    "    getresponse = req.get(\"http://api.open-notify.org/iss-now.json\")\n",
    "    text = getresponse.text\n",
    "    obj = json.loads(text)\n",
    "\n",
    "    data.append((obj['iss_position']['longitude'], obj['iss_position']['latitude']))\n",
    "    time.sleep(10)"
   ]
  },
  {
   "cell_type": "code",
   "execution_count": 14,
   "id": "520670f2-abc8-48e7-87f9-6c4f6d3d3104",
   "metadata": {},
   "outputs": [
    {
     "data": {
      "text/html": [
       "<div>\n",
       "<style scoped>\n",
       "    .dataframe tbody tr th:only-of-type {\n",
       "        vertical-align: middle;\n",
       "    }\n",
       "\n",
       "    .dataframe tbody tr th {\n",
       "        vertical-align: top;\n",
       "    }\n",
       "\n",
       "    .dataframe thead th {\n",
       "        text-align: right;\n",
       "    }\n",
       "</style>\n",
       "<table border=\"1\" class=\"dataframe\">\n",
       "  <thead>\n",
       "    <tr style=\"text-align: right;\">\n",
       "      <th></th>\n",
       "      <th>Longitude</th>\n",
       "      <th>Latitude</th>\n",
       "    </tr>\n",
       "  </thead>\n",
       "  <tbody>\n",
       "    <tr>\n",
       "      <th>0</th>\n",
       "      <td>44.9481</td>\n",
       "      <td>-40.0090</td>\n",
       "    </tr>\n",
       "    <tr>\n",
       "      <th>1</th>\n",
       "      <td>45.6177</td>\n",
       "      <td>-39.6093</td>\n",
       "    </tr>\n",
       "    <tr>\n",
       "      <th>2</th>\n",
       "      <td>46.2794</td>\n",
       "      <td>-39.2051</td>\n",
       "    </tr>\n",
       "    <tr>\n",
       "      <th>3</th>\n",
       "      <td>46.9329</td>\n",
       "      <td>-38.7967</td>\n",
       "    </tr>\n",
       "    <tr>\n",
       "      <th>4</th>\n",
       "      <td>47.6089</td>\n",
       "      <td>-38.3645</td>\n",
       "    </tr>\n",
       "    <tr>\n",
       "      <th>...</th>\n",
       "      <td>...</td>\n",
       "      <td>...</td>\n",
       "    </tr>\n",
       "    <tr>\n",
       "      <th>95</th>\n",
       "      <td>88.7318</td>\n",
       "      <td>8.0141</td>\n",
       "    </tr>\n",
       "    <tr>\n",
       "      <th>96</th>\n",
       "      <td>89.1189</td>\n",
       "      <td>8.5443</td>\n",
       "    </tr>\n",
       "    <tr>\n",
       "      <th>97</th>\n",
       "      <td>89.4887</td>\n",
       "      <td>9.0488</td>\n",
       "    </tr>\n",
       "    <tr>\n",
       "      <th>98</th>\n",
       "      <td>89.8784</td>\n",
       "      <td>9.5782</td>\n",
       "    </tr>\n",
       "    <tr>\n",
       "      <th>99</th>\n",
       "      <td>90.2693</td>\n",
       "      <td>10.1069</td>\n",
       "    </tr>\n",
       "  </tbody>\n",
       "</table>\n",
       "<p>100 rows × 2 columns</p>\n",
       "</div>"
      ],
      "text/plain": [
       "   Longitude  Latitude\n",
       "0    44.9481  -40.0090\n",
       "1    45.6177  -39.6093\n",
       "2    46.2794  -39.2051\n",
       "3    46.9329  -38.7967\n",
       "4    47.6089  -38.3645\n",
       "..       ...       ...\n",
       "95   88.7318    8.0141\n",
       "96   89.1189    8.5443\n",
       "97   89.4887    9.0488\n",
       "98   89.8784    9.5782\n",
       "99   90.2693   10.1069\n",
       "\n",
       "[100 rows x 2 columns]"
      ]
     },
     "metadata": {},
     "output_type": "display_data"
    },
    {
     "name": "stderr",
     "output_type": "stream",
     "text": [
      "Matplotlib is building the font cache; this may take a moment.\n"
     ]
    },
    {
     "data": {
      "text/plain": [
       "<AxesSubplot:xlabel='Longitude', ylabel='Latitude'>"
      ]
     },
     "execution_count": 14,
     "metadata": {},
     "output_type": "execute_result"
    },
    {
     "data": {
      "image/png": "[encoded data removed]",
      "text/plain": [
       "<Figure size 432x288 with 1 Axes>"
      ]
     },
     "metadata": {
      "needs_background": "light"
     },
     "output_type": "display_data"
    }
   ],
   "source": [
    "df = pd.DataFrame(data,columns=['Longitude','Latitude'])\n",
    "display(df)\n",
    "df[[\"Longitude\", \"Latitude\"]] = df[[\"Longitude\", \"Latitude\"]].apply(pd.to_numeric)\n",
    "df.plot.scatter(x=\"Longitude\", y=\"Latitude\")\n",
    "\n"
   ]
  }
 ],
 "metadata": {
  "kernelspec": {
   "display_name": "Python 3 (ipykernel)",
   "language": "python",
   "name": "python3"
  },
  "language_info": {
   "codemirror_mode": {
    "name": "ipython",
    "version": 3
   },
   "file_extension": ".py",
   "mimetype": "text/x-python",
   "name": "python",
   "nbconvert_exporter": "python",
   "pygments_lexer": "ipython3",
   "version": "3.9.12"
  }
 },
 "nbformat": 4,
 "nbformat_minor": 5
}
